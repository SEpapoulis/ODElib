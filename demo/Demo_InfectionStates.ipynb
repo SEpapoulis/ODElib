{
 "cells": [
  {
   "cell_type": "code",
   "execution_count": null,
   "metadata": {},
   "outputs": [],
   "source": [
    "#allows plots in notebook\n",
    "%matplotlib inline\n",
    "#sets notebook figures to high quality svg\n",
    "%config InlineBackend.figure_format = 'svg'\n",
    "\n",
    "import pandas as pd\n",
    "import numpy as np\n",
    "import matplotlib.pyplot as plt\n",
    "import scipy\n",
    "\n",
    "#importing ODElib for this demo\n",
    "import ODElib #current build 0.1.1"
   ]
  },
  {
   "cell_type": "code",
   "execution_count": null,
   "metadata": {},
   "outputs": [],
   "source": [
    "import warnings\n",
    "warnings.filterwarnings('ignore')"
   ]
  },
  {
   "cell_type": "markdown",
   "metadata": {},
   "source": [
    "# Demo notebook for ODElib - Modeling Infection States (updated 2-12-2021)\n",
    "This notebook is meant to demonstrate the versatility of ODElib by investigating the performance of different ODEs with a varying number of infection states. We will guide users through this executable notebook and highlight everything they need to know to get to analyzing their own data!"
   ]
  },
  {
   "cell_type": "markdown",
   "metadata": {},
   "source": [
    "# Writting your models for ODElib\n",
    "\n",
    "ODElib requires minimal configuration to start analyzing models, however, it is extremely important that the models, state variables, and parameters are clearly defined. Under the hood, ODElib uses [scipy's integrate module](https://docs.scipy.org/doc/scipy/reference/integrate.html) to numerically solve the ODE. ODElib automates several aspects of using this API as to focus on model testing rather than writing code to eventually test models. As such, ODElib requries only a few key arguments to automate these process. Foremost, ODElib requires a ODE written as a python function, a list of parameter names that matches the unpacking order in the ODE python funciton, and a list of state variable names that matches the unpacking order in the ODE python function. \n",
    "\n",
    "As a demo, we will test the performance of several viral/host infection models. Each model makes a different assumption about the number of infection states in the system. "
   ]
  },
  {
   "cell_type": "code",
   "execution_count": null,
   "metadata": {},
   "outputs": [],
   "source": [
    "def zero_i(y,t,ps):\n",
    "    '''\n",
    "    Viral/Host interaction model with zero infected classes\n",
    "    \n",
    "    State Variables: S (susceptible) and V (virus)\n",
    "    \n",
    "    Parameters: mu (growth rate), phi (infection rate), beta (burst size)\n",
    "    '''\n",
    "    #Unpacking of parameters\n",
    "    mu,phi,beta=ps[0],ps[1],ps[2]\n",
    "    #Unpacking of State Variables\n",
    "    S,V = y[0],y[1]\n",
    "    #differntial of the susceptible host population\n",
    "    dSdt = mu*S - phi*S*V\n",
    "    #differntial of the viral population\n",
    "    dVdt = beta*phi*S*V - phi*S*V\n",
    "    return np.array([dSdt,dVdt])\n",
    "\n",
    "def zero_i_(y,t,ps):\n",
    "    '''\n",
    "    Viral/Host interaction model with zero infected classes\n",
    "    \n",
    "    State Variables: S (susceptible) and V (virus)\n",
    "    \n",
    "    Parameters: mu (growth rate), phi (infection rate), beta (burst size)\n",
    "    '''\n",
    "    #Unpacking of parameters\n",
    "    mu_max,km,phi,beta=ps[0],ps[1],ps[2]\n",
    "    #Unpacking of State Variables\n",
    "    S,V = y[0],y[1]\n",
    "    #differntial of the susceptible host population\n",
    "    dSdt = mu_max*(S/(km+S)) - phi*S*V\n",
    "    #differntial of the viral population\n",
    "    dVdt = beta*phi*S*V - phi*S*V\n",
    "    return np.array([dSdt,dVdt])\n",
    "\n",
    "\n",
    "\n",
    "# one infected classes\n",
    "def one_i(y,t,ps):\n",
    "    '''\n",
    "    Viral/Host interaction model with one infected class\n",
    "    \n",
    "    State Variables: S (susceptible), V (virus), and I# is the infected state\n",
    "    \n",
    "    Parameters: mu (growth rate), phi (infection rate), beta (burst size), lam (lysis rate)\n",
    "    '''\n",
    "    mu,phi,beta,lam=ps[0],ps[1],ps[2],ps[3]\n",
    "    #we are now unpacking thre  \n",
    "    S,I1,V = y[0],y[1],y[2]\n",
    "    dSdt = mu*S - phi*S*V\n",
    "    dI1dt = phi*S*V - lam*I1\n",
    "    dVdt = beta*lam*I1 - phi*S*V\n",
    "    return np.array([dSdt,dI1dt,dVdt])\n",
    "\n"
   ]
  },
  {
   "cell_type": "code",
   "execution_count": null,
   "metadata": {
    "scrolled": true
   },
   "outputs": [],
   "source": [
    "df = pd.read_csv(\"testdat.csv\")\n",
    "df=df.replace({'virus':'V','host':'H'})\n",
    "df=df.rename({'uncertainty':'sigma'},axis=1)\n",
    "df['log_sigma'] = ODElib.Statistics.stats.predict_logsigma(df['sigma'],df['abundance'])\n",
    "df"
   ]
  },
  {
   "cell_type": "code",
   "execution_count": null,
   "metadata": {},
   "outputs": [],
   "source": [
    "mu_p=ODElib.parameter(stats_gen=scipy.stats.lognorm,\n",
    "                      hyperparameters={'s':3,'scale':1e-8})\n",
    "#rename phi_prior\n",
    "phi_p=ODElib.parameter(stats_gen=scipy.stats.lognorm,\n",
    "                       hyperparameters={'s':3,'scale':1e-8})\n",
    "beta_p=ODElib.parameter(stats_gen=scipy.stats.lognorm,\n",
    "                        hyperparameters={'s':1,'scale':25})\n",
    "\n",
    "\n",
    "zeroI=ODElib.ModelFramework(ODE=zero_i,\n",
    "                          parameter_names=['mu','phi','beta'],\n",
    "                          state_names = ['H','V'],\n",
    "                          dataframe=df,\n",
    "                          mu = mu_p,\n",
    "                          phi = phi_p,\n",
    "                          beta = beta_p,\n",
    "                          t_steps=288\n",
    "                         )\n",
    "f,ax = zeroI.plot()"
   ]
  },
  {
   "cell_type": "markdown",
   "metadata": {},
   "source": [
    "# Poor fits\n",
    "We see we have very poor fits. To find better values, we can launch MCMC."
   ]
  },
  {
   "cell_type": "code",
   "execution_count": null,
   "metadata": {
    "scrolled": true
   },
   "outputs": [],
   "source": [
    "#chain_inits=1,iterations_per_chain=1000,cpu_cores=1,static_parameters=list(),print_report=True,fitsurvey_samples=1000,sd_fitdistance=3.0\n",
    "posterior = zeroI.MCMC(chain_inits=32,cpu_cores=8,fitsurvey_samples=10000,sd_fitdistance=3.0)"
   ]
  },
  {
   "cell_type": "code",
   "execution_count": null,
   "metadata": {},
   "outputs": [],
   "source": [
    "posterior"
   ]
  },
  {
   "cell_type": "code",
   "execution_count": null,
   "metadata": {},
   "outputs": [],
   "source": [
    "def plot_histogram(series,logspace=True, name=None):\n",
    "    '''\n",
    "    This is a plotting function to help us visualize posterior distributions\n",
    "    '''\n",
    "    if logspace:\n",
    "        axessubplot = series.hist(bins=np.logspace(np.log10(series.min()),\n",
    "                                                   np.log10(series.max()), 50))\n",
    "        axessubplot.figure.gca().set_xscale(\"log\")\n",
    "    else:\n",
    "        axessubplot = series.hist(bins=np.linspace(series.min(),series.max(), 50))\n",
    "    if series.name or name:\n",
    "        if name:\n",
    "            axessubplot.set_title(name)\n",
    "        else:\n",
    "            axessubplot.set_title(series.name)\n",
    "    return(axessubplot)"
   ]
  },
  {
   "cell_type": "code",
   "execution_count": null,
   "metadata": {},
   "outputs": [],
   "source": [
    "muposterior=plot_histogram(posterior['mu'],name='mu posterior')"
   ]
  },
  {
   "cell_type": "code",
   "execution_count": null,
   "metadata": {},
   "outputs": [],
   "source": [
    "f=phi_p.get_figure(logspace=True)"
   ]
  },
  {
   "cell_type": "code",
   "execution_count": null,
   "metadata": {},
   "outputs": [],
   "source": [
    "phiposterior=plot_histogram(posterior['phi'],name='phi posterior')"
   ]
  },
  {
   "cell_type": "code",
   "execution_count": null,
   "metadata": {},
   "outputs": [],
   "source": [
    "betaposterior=plot_histogram(posterior['beta'],name='beta posterior',logspace=False)"
   ]
  },
  {
   "cell_type": "code",
   "execution_count": null,
   "metadata": {},
   "outputs": [],
   "source": [
    "#grabbing a parameter set from the posterior to show fits are much better\n",
    "zeroI.set_parameters(**posterior.iloc[-1][zeroI.get_pnames()].to_dict())\n",
    "zeroI.plot()"
   ]
  },
  {
   "cell_type": "markdown",
   "metadata": {},
   "source": [
    "# 1 infection state"
   ]
  },
  {
   "cell_type": "code",
   "execution_count": null,
   "metadata": {
    "scrolled": false
   },
   "outputs": [],
   "source": [
    "mu_p=ODElib.parameter(scipy.stats.lognorm,{'s':3,'scale':1e-8})\n",
    "phi_p=ODElib.parameter(scipy.stats.lognorm,{'s':3,'scale':1e-8})\n",
    "beta_p=ODElib.parameter(scipy.stats.lognorm,{'s':.5,'scale':20})\n",
    "lam_p=ODElib.parameter(scipy.stats.lognorm,{'s':2,'scale':.01})\n",
    "\n",
    "oneI=ODElib.ModelFramework(ODE=one_i,\n",
    "                          parameter_names=['mu','phi','beta','lam'],\n",
    "                          state_names = ['S','I1','V'],\n",
    "                          dataframe=df,\n",
    "                          mu = mu_p,\n",
    "                          phi = phi_p,\n",
    "                          beta = beta_p,\n",
    "                          lam=lam_p, \n",
    "                          t_steps=1000,\n",
    "                          state_summations={'H':['S','I1']},\n",
    "                          S=5236900\n",
    "                           \n",
    "                         )\n",
    "oneI.plot()"
   ]
  },
  {
   "cell_type": "code",
   "execution_count": null,
   "metadata": {},
   "outputs": [],
   "source": [
    "#changed sd_fitdistance to cast wider net\n",
    "posterior_onei = oneI.MCMC(chain_inits=8,cpu_cores=8,fitsurvey_samples=10000,sd_fitdistance=5.0)\n",
    "posterior_onei"
   ]
  },
  {
   "cell_type": "code",
   "execution_count": null,
   "metadata": {},
   "outputs": [],
   "source": [
    "oneI.set_parameters(**posterior_onei.iloc[-1][oneI.get_pnames()].to_dict())\n",
    "oneI.plot()"
   ]
  },
  {
   "cell_type": "code",
   "execution_count": null,
   "metadata": {},
   "outputs": [],
   "source": [
    "muposterior=plot_histogram(posterior_onei['mu'],name='mu posterior (oneI)')"
   ]
  },
  {
   "cell_type": "code",
   "execution_count": null,
   "metadata": {},
   "outputs": [],
   "source": [
    "phiposterior=plot_histogram(posterior_onei['phi'],name='phi posterior (oneI)')"
   ]
  },
  {
   "cell_type": "code",
   "execution_count": null,
   "metadata": {},
   "outputs": [],
   "source": [
    "betaposterior=plot_histogram(posterior_onei['beta'],name='beta posterior (oneI)',logspace=False)"
   ]
  },
  {
   "cell_type": "code",
   "execution_count": null,
   "metadata": {},
   "outputs": [],
   "source": [
    "lamposterior=plot_histogram(posterior_onei['lam'],name='lambda posterior (oneI)')"
   ]
  },
  {
   "cell_type": "code",
   "execution_count": null,
   "metadata": {},
   "outputs": [],
   "source": []
  }
 ],
 "metadata": {
  "kernelspec": {
   "display_name": "Python 3",
   "language": "python",
   "name": "python3"
  },
  "language_info": {
   "codemirror_mode": {
    "name": "ipython",
    "version": 3
   },
   "file_extension": ".py",
   "mimetype": "text/x-python",
   "name": "python",
   "nbconvert_exporter": "python",
   "pygments_lexer": "ipython3",
   "version": "3.7.6"
  }
 },
 "nbformat": 4,
 "nbformat_minor": 4
}
